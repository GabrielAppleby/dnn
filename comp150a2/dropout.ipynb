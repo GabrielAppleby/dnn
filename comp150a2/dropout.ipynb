{
 "cells": [
  {
   "cell_type": "markdown",
   "metadata": {},
   "source": [
    "# Dropout\n",
    "Dropout [1] is a technique for regularizing neural networks by randomly setting some features to zero during the forward pass. In this exercise you will implement a dropout layer and modify your fully-connected network to optionally use dropout.\n",
    "\n",
    "[1] [Geoffrey E. Hinton et al, \"Improving neural networks by preventing co-adaptation of feature detectors\", arXiv 2012](https://arxiv.org/abs/1207.0580)"
   ]
  },
  {
   "cell_type": "code",
   "execution_count": 1,
   "metadata": {},
   "outputs": [],
   "source": [
    "import numpy as np\n",
    "import tensorflow as tf\n",
    "import matplotlib.pyplot as plt\n",
    "from data_utils import get_CIFAR10_data\n",
    "from implementations.layers import dropout_forward\n",
    "import os\n",
    "os.environ['KMP_DUPLICATE_LIB_OK']='True'\n",
    "\n",
    "\n",
    "%matplotlib inline\n",
    "plt.rcParams['figure.figsize'] = (10.0, 8.0) # set default size of plots\n",
    "plt.rcParams['image.interpolation'] = 'nearest'\n",
    "plt.rcParams['image.cmap'] = 'gray'\n",
    "\n",
    "# for auto-reloading external modules\n",
    "# see http://stackoverflow.com/questions/1907993/autoreload-of-modules-in-ipython\n",
    "%load_ext autoreload\n",
    "%autoreload 2\n",
    "\n",
    "def rel_error(x, y):\n",
    "  \"\"\" returns relative error \"\"\"\n",
    "  return np.max(np.abs(x - y) / (np.maximum(1e-8, np.abs(x) + np.abs(y))))"
   ]
  },
  {
   "cell_type": "code",
   "execution_count": 2,
   "metadata": {
    "scrolled": true
   },
   "outputs": [
    {
     "name": "stdout",
     "output_type": "stream",
     "text": [
      "X_train:  (49000, 3, 32, 32)\n",
      "y_train:  (49000,)\n",
      "X_val:  (1000, 3, 32, 32)\n",
      "y_val:  (1000,)\n",
      "X_test:  (1000, 3, 32, 32)\n",
      "y_test:  (1000,)\n"
     ]
    }
   ],
   "source": [
    "# Load the (preprocessed) CIFAR10 data.\n",
    "\n",
    "data = get_CIFAR10_data()\n",
    "for k, v in data.items():\n",
    "  print('%s: ' % k, v.shape)"
   ]
  },
  {
   "cell_type": "markdown",
   "metadata": {},
   "source": [
    "# Dropout in Tensorflow\n",
    "Let's first try the dropout function in Tensorflow."
   ]
  },
  {
   "cell_type": "code",
   "execution_count": 3,
   "metadata": {},
   "outputs": [
    {
     "name": "stdout",
     "output_type": "stream",
     "text": [
      "Running tests with p =  0.25\n",
      "Mean of input:  9.998768973493084\n",
      "Mean of train-time output:  9.95820363172806\n",
      "Fraction of train-time output set to zero:  0.750952\n",
      "\n",
      "Running tests with p =  0.4\n",
      "Mean of input:  9.998768973493084\n",
      "Mean of train-time output:  10.026412831125148\n",
      "Fraction of train-time output set to zero:  0.598944\n",
      "\n",
      "Running tests with p =  0.7\n",
      "Mean of input:  9.998768973493084\n",
      "Mean of train-time output:  10.002123690802824\n",
      "Fraction of train-time output set to zero:  0.299816\n",
      "\n"
     ]
    }
   ],
   "source": [
    "np.random.seed(15009)\n",
    "x = np.random.randn(500, 500) + 10\n",
    "\n",
    "for p in [0.25, 0.4, 0.7]:\n",
    "  \n",
    "  # please read the documentation of tf.nn.dropout carefully\n",
    "  out = tf.Session().run(tf.nn.dropout(x, keep_prob=p))\n",
    "\n",
    "  print('Running tests with p = ', p)\n",
    "  print('Mean of input: ', x.mean())\n",
    "  print('Mean of train-time output: ', out.mean())\n",
    "  print('Fraction of train-time output set to zero: ', (out == 0).mean())\n",
    "  print()\n"
   ]
  },
  {
   "cell_type": "markdown",
   "metadata": {},
   "source": [
    "# Dropout forward pass\n",
    "In the file `implementations/layers.py`, implement the forward pass for dropout. Since dropout behaves differently during training and testing, make sure to implement the operation for both modes.\n",
    "\n",
    "Once you have done so, run the cell below to test your implementation."
   ]
  },
  {
   "cell_type": "code",
   "execution_count": 4,
   "metadata": {},
   "outputs": [
    {
     "name": "stdout",
     "output_type": "stream",
     "text": [
      "Running tests with p =  0.25\n",
      "Mean of input:  9.998768973493084\n",
      "Mean of train-time output:  9.986276462158349\n",
      "Mean of test-time output:  9.998768973493084\n",
      "Fraction of train-time output set to zero:  0.750368\n",
      "Fraction of test-time output set to zero:  0.0\n",
      "\n",
      "Running tests with p =  0.4\n",
      "Mean of input:  9.998768973493084\n",
      "Mean of train-time output:  9.99260827072689\n",
      "Mean of test-time output:  9.998768973493084\n",
      "Fraction of train-time output set to zero:  0.600272\n",
      "Fraction of test-time output set to zero:  0.0\n",
      "\n",
      "Running tests with p =  0.7\n",
      "Mean of input:  9.998768973493084\n",
      "Mean of train-time output:  9.991168302483839\n",
      "Mean of test-time output:  9.998768973493084\n",
      "Fraction of train-time output set to zero:  0.300436\n",
      "Fraction of test-time output set to zero:  0.0\n",
      "\n"
     ]
    }
   ],
   "source": [
    "np.random.seed(15009)\n",
    "x = np.random.randn(500, 500) + 10\n",
    "\n",
    "for p in [0.25, 0.4, 0.7]:\n",
    "  out = dropout_forward(x, {'mode': 'train', 'p': p})\n",
    "\n",
    "#   Hint: The tensorflow dropout does not have a mode parameter to specify the mode.\n",
    "  out_test = dropout_forward(x, {'mode': 'test', 'p': p})\n",
    "\n",
    "  print('Running tests with p = ', p)\n",
    "  print('Mean of input: ', x.mean())\n",
    "  print('Mean of train-time output: ', out.mean())\n",
    "  print('Mean of test-time output: ', out_test.mean())\n",
    "  print('Fraction of train-time output set to zero: ', (out == 0).mean())\n",
    "  print('Fraction of test-time output set to zero: ', (out_test == 0).mean())\n",
    "  print()"
   ]
  },
  {
   "cell_type": "markdown",
   "metadata": {},
   "source": [
    "## Inline Question 1:\n",
    "What happens if we do not divide the values being passed through inverse dropout by `p` in the dropout layer? Why does that happen?"
   ]
  },
  {
   "cell_type": "markdown",
   "metadata": {},
   "source": [
    "## Answer:\n",
    "The mean of our outputs will differ wildly after dropout, since we are are setting a lot of connections to zero."
   ]
  },
  {
   "cell_type": "markdown",
   "metadata": {},
   "source": [
    "# Fully-connected nets with Dropout\n",
    "\n",
    "The assignment provides an implementation of fully connected neural network. You need to add dropout layters to the implementation. *Now you can use* `tf.nn.dropout`."
   ]
  },
  {
   "cell_type": "markdown",
   "metadata": {},
   "source": [
    "**Regularization experiment:**  As an experiment, we will train a pair of two-layer networks on 500 training examples: one will use no dropout, and one will use a keep probability of 0.25. We will then visualize the training and validation accuracies of the two networks over time."
   ]
  },
  {
   "cell_type": "code",
   "execution_count": 5,
   "metadata": {
    "scrolled": false
   },
   "outputs": [
    {
     "name": "stdout",
     "output_type": "stream",
     "text": [
      "WARNING:tensorflow:From /Users/gabrielappleby/Desktop/comp150a2/implementations/fc_net.py:136: softmax_cross_entropy_with_logits (from tensorflow.python.ops.nn_ops) is deprecated and will be removed in a future version.\n",
      "Instructions for updating:\n",
      "\n",
      "Future major versions of TensorFlow will allow gradients to flow\n",
      "into the labels input on backprop by default.\n",
      "\n",
      "See `tf.nn.softmax_cross_entropy_with_logits_v2`.\n",
      "\n",
      "iteration 0 / 1000: objective 74.464790\n",
      "iteration 100 / 1000: objective 43.078400\n",
      "iteration 200 / 1000: objective 32.892120\n",
      "iteration 300 / 1000: objective 17.114698\n",
      "iteration 400 / 1000: objective 14.227290\n",
      "iteration 500 / 1000: objective 21.940599\n",
      "iteration 600 / 1000: objective 3.830760\n",
      "iteration 700 / 1000: objective 3.935968\n",
      "iteration 800 / 1000: objective 2.007773\n",
      "iteration 900 / 1000: objective 2.122270\n",
      "iteration 0 / 1000: objective 80.240707\n",
      "iteration 100 / 1000: objective 63.989079\n",
      "iteration 200 / 1000: objective 61.750450\n",
      "iteration 300 / 1000: objective 52.868652\n",
      "iteration 400 / 1000: objective 61.482975\n",
      "iteration 500 / 1000: objective 69.966484\n",
      "iteration 600 / 1000: objective 49.312840\n",
      "iteration 700 / 1000: objective 38.332069\n",
      "iteration 800 / 1000: objective 50.912228\n",
      "iteration 900 / 1000: objective 35.912621\n"
     ]
    }
   ],
   "source": [
    "from implementations.fc_net import FullyConnectedNet\n",
    "\n",
    "# Train two identical nets, one with dropout and one without\n",
    "np.random.seed(15009)\n",
    "num_train = 500\n",
    "\n",
    "X_train = data['X_train'][:num_train]\n",
    "X_train = np.reshape(X_train, [X_train.shape[0], -1]) / 255\n",
    "y_train = data['y_train'][:num_train]\n",
    "X_val = data['X_val']\n",
    "X_val = np.reshape(X_val, [X_val.shape[0], -1]) / 255\n",
    "y_val = data['y_val']\n",
    "\n",
    "traces={}\n",
    "dropout_choices = [1, 0.25]\n",
    "for keep_prob in dropout_choices:\n",
    "  model = FullyConnectedNet(input_size=X_train[0].size, hidden_size=[500], output_size=10, use_dropout=True)\n",
    "\n",
    "\n",
    "\n",
    "  train_trace= model.train(X=X_train, y=y_train, X_val=X_val, y_val=y_val,\n",
    "                           learning_rate=2e-3, keep_prob=keep_prob,\n",
    "                           reg=np.float32(5e-6), num_iters=1000,\n",
    "                           batch_size=32, verbose=True)\n",
    "\n",
    "  traces[keep_prob] = train_trace"
   ]
  },
  {
   "cell_type": "code",
   "execution_count": 6,
   "metadata": {},
   "outputs": [
    {
     "data": {
      "image/png": "[encoded data removed]",
      "text/plain": [
       "<Figure size 1080x1080 with 2 Axes>"
      ]
     },
     "metadata": {
      "needs_background": "light"
     },
     "output_type": "display_data"
    }
   ],
   "source": [
    "# Plot train and validation accuracies of the two models\n",
    "\n",
    "train_accs = []\n",
    "val_accs = []\n",
    "for keep_prob in dropout_choices:\n",
    "  trace = traces[keep_prob]\n",
    "  train_accs.append(trace['train_acc_history'][-1])\n",
    "  val_accs.append(trace['val_acc_history'][-1])\n",
    "\n",
    "plt.subplot(3, 1, 1)\n",
    "for keep_prob in dropout_choices:\n",
    "  plt.plot(traces[keep_prob]['train_acc_history'], '-o', label='keep-prob=%.2f' % keep_prob)\n",
    "plt.title('Train accuracy')\n",
    "plt.xlabel('Epoch')\n",
    "plt.ylabel('Accuracy')\n",
    "plt.legend(ncol=2, loc='lower right')\n",
    "  \n",
    "plt.subplot(3, 1, 2)\n",
    "for keep_prob in dropout_choices:\n",
    "  plt.plot(traces[keep_prob]['val_acc_history'], '-o', label='keep-prob=%.2f' % keep_prob)\n",
    "plt.title('Val accuracy')\n",
    "plt.xlabel('Epoch')\n",
    "plt.ylabel('Accuracy')\n",
    "plt.legend(ncol=2, loc='lower right')\n",
    "\n",
    "plt.gcf().set_size_inches(15, 15)\n",
    "plt.show()"
   ]
  },
  {
   "cell_type": "markdown",
   "metadata": {},
   "source": [
    "## Inline Question 2:\n",
    "Compare the validation and training accuracies with and without dropout -- what do your results suggest about dropout as a regularizer?"
   ]
  },
  {
   "cell_type": "markdown",
   "metadata": {},
   "source": [
    "## Answer:\n",
    "Its certainly stopping it from overfitting on the training data, judging by the small training accuracy. But I think its probably underfitting at this point since th test error is even worse than with no regularization."
   ]
  },
  {
   "cell_type": "markdown",
   "metadata": {},
   "source": [
    "## Inline Question 3:\n",
    "Suppose we are training a deep fully-connected network for image classification, with dropout after hidden layers (parameterized by keep probability p). How should we modify p, if at all, if we decide to decrease the size of the hidden layers (that is, the number of nodes in each layer)?"
   ]
  },
  {
   "cell_type": "markdown",
   "metadata": {},
   "source": [
    "## Answer:\n",
    "We should probably increase the keep probability (increase p) for a model with all else equal that has a lower number of nodes in each layer. Since this model is less complex it will be at a lower risk of overfitting, and a higher risk of underfitting."
   ]
  },
  {
   "cell_type": "code",
   "execution_count": null,
   "metadata": {},
   "outputs": [],
   "source": []
  }
 ],
 "metadata": {
  "kernelspec": {
   "display_name": "Python [conda env:dnn]",
   "language": "python",
   "name": "conda-env-dnn-py"
  },
  "language_info": {
   "codemirror_mode": {
    "name": "ipython",
    "version": 3
   },
   "file_extension": ".py",
   "mimetype": "text/x-python",
   "name": "python",
   "nbconvert_exporter": "python",
   "pygments_lexer": "ipython3",
   "version": "3.6.8"
  }
 },
 "nbformat": 4,
 "nbformat_minor": 2
}
